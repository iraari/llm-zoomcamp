{
 "cells": [
  {
   "cell_type": "code",
   "execution_count": 1,
   "id": "80ecac47-f691-474e-b773-0ca8ea035491",
   "metadata": {},
   "outputs": [],
   "source": [
    "import openai"
   ]
  },
  {
   "cell_type": "code",
   "execution_count": 2,
   "id": "0e3fcede-04b2-4704-9dca-d28e7341c277",
   "metadata": {},
   "outputs": [],
   "source": [
    "from openai import OpenAI"
   ]
  },
  {
   "cell_type": "code",
   "execution_count": 3,
   "id": "634b8d64-ccea-4afc-b903-9cc41c45112d",
   "metadata": {},
   "outputs": [],
   "source": [
    "client = OpenAI()"
   ]
  },
  {
   "cell_type": "code",
   "execution_count": 4,
   "id": "b36055b0-f465-47b8-8b02-4eedad7f9805",
   "metadata": {},
   "outputs": [],
   "source": [
    "import os"
   ]
  },
  {
   "cell_type": "code",
   "execution_count": 6,
   "id": "55082af9-040f-4b6e-8853-cfb3e5f8282b",
   "metadata": {},
   "outputs": [],
   "source": [
    "#os.environ"
   ]
  },
  {
   "cell_type": "code",
   "execution_count": 7,
   "id": "2b6dbbd1-bd3b-4730-a4bc-7ee996f6e6e7",
   "metadata": {},
   "outputs": [],
   "source": [
    "response = client.chat.completions.create(\n",
    "    model=\"gpt-4o\",\n",
    "    messages=[{\"role\": \"user\", \"content\": \"is it too late to join the course?\"}]\n",
    "\n",
    ")"
   ]
  },
  {
   "cell_type": "code",
   "execution_count": 10,
   "id": "7e322629-07f8-4532-b20d-cdc62c8e33b0",
   "metadata": {},
   "outputs": [
    {
     "data": {
      "text/plain": [
       "\"To determine whether it's too late to join a course, you'll need to consider a few factors:\\n\\n1. **Enrollment Deadline:** Check if the course has a specific enrollment deadline. Many courses have a cutoff date after which you can't register.\\n\\n2. **Start Date:** If the course has already started, find out if late registration is allowed. Some courses permit late enrollment if you can catch up.\\n\\n3. **Course Type:** Consider whether the course is self-paced or instructor-led. Self-paced online courses often allow you to enroll at any time, while instructor-led courses may have specific timelines.\\n\\n4. **Prerequisites:** Ensure you meet any prerequisite requirements before joining the course.\\n\\n5. **Instructor or Institution Policies:** Contact the course instructor or the institution offering the course to see if exceptions can be made for late enrollment.\\n\\n6. **Course Structure:** Evaluate whether you can realistically catch up on missed content if the course has already started.\\n\\nIf you provide more specific information about the course, I might be able to offer more tailored advice.\""
      ]
     },
     "execution_count": 10,
     "metadata": {},
     "output_type": "execute_result"
    }
   ],
   "source": [
    "response.choices[0].message.content"
   ]
  },
  {
   "cell_type": "code",
   "execution_count": null,
   "id": "d81817c5-29d1-4456-ba06-b74940524817",
   "metadata": {},
   "outputs": [],
   "source": []
  }
 ],
 "metadata": {
  "kernelspec": {
   "display_name": "Python 3 (ipykernel)",
   "language": "python",
   "name": "python3"
  },
  "language_info": {
   "codemirror_mode": {
    "name": "ipython",
    "version": 3
   },
   "file_extension": ".py",
   "mimetype": "text/x-python",
   "name": "python",
   "nbconvert_exporter": "python",
   "pygments_lexer": "ipython3",
   "version": "3.12.1"
  }
 },
 "nbformat": 4,
 "nbformat_minor": 5
}
